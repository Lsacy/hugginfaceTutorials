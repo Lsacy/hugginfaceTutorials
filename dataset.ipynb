{
 "cells": [
  {
   "cell_type": "code",
   "execution_count": 40,
   "metadata": {},
   "outputs": [
    {
     "name": "stderr",
     "output_type": "stream",
     "text": [
      "Using custom data configuration default-cf2a94a56a5a2f7c\n",
      "Found cached dataset csv (/Users/lsacy/.cache/huggingface/datasets/csv/default-cf2a94a56a5a2f7c/0.0.0/6b34fb8fcf56f7c8ba51dc895bfa2bfbe43546f190a60fcf74bb5e8afdcc2317)\n",
      "100%|██████████| 3/3 [00:00<00:00, 160.95it/s]\n"
     ]
    }
   ],
   "source": [
    "from datasets import load_dataset\n",
    "import pandas as pd\n",
    "dataset = load_dataset('csv', data_files={'train': '/Users/lsacy/data/continualLearning/mimic_codiesp_filtered_CCS_fold_1_train.csv', 'test': '/Users/lsacy/data/continualLearning/mimic_codiesp_filtered_CCS_fold_1_test.csv', 'dev': '/Users/lsacy/data/continualLearning/mimic_codiesp_filtered_CCS_fold_1_dev.csv'})\n",
    "df_codiesp = pd.read_csv('/Users/lsacy/data/continualLearning/mimic_codiesp_filtered_CCS_fold_1_train.csv')"
   ]
  },
  {
   "cell_type": "code",
   "execution_count": 43,
   "metadata": {},
   "outputs": [
    {
     "name": "stdout",
     "output_type": "stream",
     "text": [
      "{'HADM_ID': 167071, 'TEXT': \"CHIEF COMPLAINT: Shortness of breath in the past\\n\\nPRESENT ILLNESS: 49 year old male with a presented in [**2105-10-1**] with orthopnea and a 30 pound weight gain with LE edema and abdominal distention. Initially he was successfully diuresed with HCTZ, but had a re-accumulation of fluid several weeks later. He has since been put on Toprol, Lasix 80mg daily and Lisinopril with excellent diuresis. Echocardiogram on [**2105-12-17**] has revealed an LVEF of 35-40%, a bicuspid aortic valve with moderate aortic regurgitation and a significantly dilated aorta. He was referred for cardiac catheterization and surgical evaluation.\\n\\nMEDICAL HISTORY: Hypertension Bicuspid aortic valve with aortic insuffiency Newly diagnosed cardiomyopathy, LVEF 35-40% Markedly dilated aorta ? Sleep apnea (never had formal sleep study)\\n\\nMEDICATION ON ADMISSION: FUROSEMIDE 40 mg [**Hospital1 **] LISINOPRIL 10 mg Daily METOPROLOL SUCCINATE 25 mg Daily\\n\\nALLERGIES: No Known Allergies / Adverse Drug Reactions\\n\\nPHYSICAL EXAM: Pulse:95 Resp:18  O2 sat:98/RA B/P  Right:141/65    Left:152/85 Height:6'     Weight:298 lbs\\n\\nFAMILY HISTORY: Family History:Premature coronary artery disease- Father had valve replacement. Brother had an MI in his early 40's. Older brother with pacemaker in his early 50's\\n\\nSOCIAL HISTORY: Last Dental Exam:6 months ago, he will contact his dentist and have dental clearance faxed to office Lives with:Wife Contact:[**Name (NI) 803**] (wife) Occupation:Works in sales Cigarettes: Smoked no [] yes [x] Hx:smoked for 10 years [**2-1**] and quit 12 years ago Other Tobacco use:denies ETOH: < 1 drink/week []  [**3-9**] drinks/week [] >8 drinks/week [x] Illicit drug use:denies\\n\\nBRIEF HOSPITAL COURSE: Mr. [**Known lastname 6185**] was admitted to the [**Hospital1 18**] on [**2106-1-14**] for surgical management of his aortic disease. He was taken to the operating room where he underwent a bentall procedure using a 27mm St. [**Male First Name (un) **] aortic valved conduit. Please see operative note for details. Blood products were used intraoperatively to correct a coagulopathy. Postopertively he was taken to the intensive care unit for monitoring. Over the next several hours, he awoke neurologically intact and was extubated. The chest tubes and epicardial pacing wires were discontinued on POD#2 and he was transferred to the floor.  He was anticoagulated with coumdadin and was theraputic with an INR on 3.0 on POD#4.  He was discharged to home in stable condition on POD#4.  I spoke with Dr.[**Name (NI) 90778**] nurse to have the patient's coumadin management followed.\", 'ROW_ID': 41794, 'SUBJECT_ID': 90406, 'labels': \"['Aortic; peripheral; and visceral artery aneurysms', 'Hypotension', 'Sleep wake disorders', 'Essential hypertension', 'Fluid and electrolyte disorders', 'Coagulation and hemorrhagic disorders', 'Respiratory failure; insufficiency; arrest', 'Myocarditis and cardiomyopathy', 'Personal/family history of disease', 'Cardiac and circulatory congenital anomalies']\"}\n"
     ]
    }
   ],
   "source": [
    "#first row of the train set\n",
    "print(dataset['train'][0])  # type: dict\n",
    "#convert to a dataframe with one row, with HADM_ID as index\n",
    "df = pd.DataFrame(dataset['train']) # type: pd.DataFrame"
   ]
  },
  {
   "cell_type": "code",
   "execution_count": 44,
   "metadata": {},
   "outputs": [
    {
     "name": "stdout",
     "output_type": "stream",
     "text": [
      "{'HADM_ID': 135696, 'TEXT': \"CHIEF COMPLAINT: Hemoptysis\\n\\nPRESENT ILLNESS: 52 year-old female with renal cell carcinoma metastatic to hip and lung admitted with hemoptysis. She underwent debulking of right mainstem endobronchial tumor on [**2126-2-20**] by rigid bronchoscopy; at that time, argon plasma injection with plan for repeat debulking in the future. Post-procedure, she had cough productive wtih green/yellow sputum but otherwise felt well. On day prior to admission, she had injection with photosensitive chemotherapeutic [**Doctor Last Name 360**] (Photofrin) with plan for debulking on Friday, [**2126-3-15**]. Following procedure experienced experienced hemoptysis x15 minutes; also with SOB. . She present to OSH ED for further evaluation. At OSH, she required 4L NC to maintain oxygen saturation in mid-90s. She was transferred to [**Hospital1 18**] for further management. . In the [**Hospital1 18**] ED, HR 88, BP 100/palp, RR 16, O2Sat 98% 4L NC. Weaned supplemental oxygen to 3L NC. She had three episodes of hemoptysis. SBP dropped to 60s during one episode of hemoptysis, and improved to low 100s after 3L IVF NS. Laboratory data significant for hematocrit 31.3 (31.1 at last discharge), chemistry panel within normal limits, lactate 1.1. CXR 2V with numerous pulmonary nodules not changed from prior CT; no new consolidation or effusion; right chest portacath. CTA chest was considered given risk for pulmonary embolism, but was not completed due to contrast allergy. V/Q was also considered, but could not be performed due to scheduling. Decision was made for MRA chest in ED, but was not completed. She was seen by interventional pulmonology, who recommended intra-operative evaluation for active bleeding. She was sent directly from ED to OR to have rigid bronch performed. She in received total of 3L IVF in ED with SBP in 100s prior to transfer to OR. . In the OR, noted to have extrinsic compression of right mainstem bronchus, polypoid mass in RLL, and several large blood clots in RLL. Underwent laser therapy of mass. Will go back to OR for repeat intervention as originally planned on [**2126-3-15**]. Of note, given Photofrin, she is very light sensitive - q30 checks for saturation (not continuous); must be dark room, otherwise risk for burn. . In the PACU, was originally on 3L NC, though felt dyspneic and noted to have O2Sat of 91%. She was given albuterol neb and put on 6L by neb mask. Her dyspnea resolved. Had one episode of hemoptysis productive of pink sputum. She had minimal pain and received morphine 2 mg IV x 2. . On arrival to MICU, patient reports intermittent cough with associated dyspnea. Reports some pink sputum with flecks of blood. Admits to some fatigue. Denies fevers, nausea, vomiting, abdominal pain.\\n\\nMEDICAL HISTORY: - Renal cell carcinoma s/p right nephrectomy with mets to lung and hip. Oncologist [**Doctor Last Name **], patient started Avastin [**2126-1-21**].  - left hip arthroplasty - history of a heart murmur - borderline hyperglycemia - TAH-BSO - motor vehicle accident in [**2103**] complicated by traumatic pneumothorax requiring chest tube and traumatic splenectomy.\\n\\nMEDICATION ON ADMISSION: 1. acetaminophen-codeine 300-30 mg Tablet Sig: 1-2 Tablets PO Q6H (every 6 hours) as needed for pain. 2. Menthol Cough Drops Mucous membrane 3. ipratropium-albuterol 0.5 mg-3 mg(2.5 mg base)/3 mL Solution for Nebulization Sig: One (1) Inhalation three times a day. 4. lorazepam 0.5 mg Tablet Sig: One (1) Tablet PO Q8H (every 8 hours) as needed for anxiety. 5. tramadol 50 mg Tablet Sig: One (1) Tablet PO Q6H (every 6 hours) as needed for pain. 6. calcium carbonate Oral 7. cholecalciferol (vitamin D3) 2,000 unit Capsule Sig: One (1) Capsule PO once a day. 8. cyanocobalamin (vitamin B-12) Oral 9. docusate calcium Oral 10. iodine (kelp) Tablet Sig: One (1) Tablet PO once a day. 11. multivitamin Capsule Sig: One (1) Capsule PO once a day. 12. senna 8.6 mg Tablet Sig: One (1) Tablet PO once a day. 13. codeine-guaifenesin 10-100 mg/5 mL Liquid Sig: One (1) PO four times a day\\n\\nALLERGIES: Sudafed / Erythromycin Base / Optiray 300 / Levaquin\\n\\nPHYSICAL EXAM: VS: T 100.3, HR 93, BP 114/44, 18, 94% 3L NC GEN: NAD HEENT: Pupillary reflex not tested due to skin photosensitivity, oral mucosa slightly dry NECK: Supple, no JVP elevation PULM: Inspiratory squeaks and expiratory wheezes on right anterior lung field, expiratory wheezing on left, intermittent cough CARD: RR, nl S1, nl S2, II/VI systolic murmur loudest at LLSB ABD: Obese, soft, NT, ND EXT: Trace BLE edema SKIN: no rashes NEURO: Alert and oriented x 3, PSYCH: Mood and affect appropriate to clinical situation\\n\\nFAMILY HISTORY: colon cancer in her father diabetes in her mother and sister\\n\\nSOCIAL HISTORY: Patient not currently working. former smoker, having quit many years ago. rare EtOH use. Lives with partner.\\n\\nBRIEF HOSPITAL COURSE: 52 yo F with renal cell carcinoma metastatic to hip and lung admitted with hemoptysis and found to have an obstructing RUL mass.  Initially transferred to MICU following rigid bronch with photodynamic therapy and blood clot extraction in OR by interventional pulmonology. . ACTIVE ISSUES:  #. RUL mass - Large endobronchial tumor obstructing the right upper lobe takeoff and protruding into the right bronchus intermedius found during rigid bronchoscopy on [**3-12**]. - IP visualized clot and extracted it, and also performed a partial resection and coagulation of the obstructive lesion with subsequent improvement in RLL aeration - The patient was observed in the MICU for 6 days without incident, was taken back for bronchoscopy on [**3-15**] and [**3-18**] for debridement and photodynamic therapy, see operative reports for details - During the last two procedures the [**Hospital1 **] was found to be patent, but the area behind the obstructing lesion was noted to be full of purulent secretions - These secretions were aspirated by the IP team, with concern for post obstructive pneumonia - Her oxygenation improved, and she was then transferred to the floor on [**3-18**] - She will be seen by the IP team in 2 weeks for follow up bronchoscopy, no further debridement took place during her admission  # Post obstructive pneumonia - She was started on a course of IV vanc/cefepime in the MICU, no culture data available from bronchoscopy - Completed an 8 day course of therapy on [**3-23**] - Consistency and frequency of purulent secretions improved over the course of her stay on the floor with no signs of recurrent or persistent pneumonia - Supportive therapies included albuterol and ipatropium nebs, guaifensin, chest PT, and frequent ambulation - On day of discharge, the patient was sat'ing in the high 90's on 2LNC at rest, with a desaturation to the high 80's off of oxygen while ambulating - Serial CXR's showed interval improvement in the aeration of the RLL, with persistent opacification of the RUL  #. Metastatic renal cell carcinoma: s/p right nephrectomy. Also s/p left hip arthoplasty and right mainstem bronchus mass debulking for metastatic disease. - Patient will convene with her outpatient oncologist Dr. [**Last Name (STitle) **] to discuss any further plans for systemic therapy\", 'ROW_ID': 38889, 'SUBJECT_ID': 90739, 'labels': \"['Respiratory signs and symptoms', 'Acquired absence of limb or organ', 'Personal/family history of disease', 'Pneumonia (except that caused by tuberculosis)', 'Secondary malignancies']\"}\n"
     ]
    }
   ],
   "source": [
    "dataset_shuffled = dataset.shuffle(seed=1)\n",
    "print(dataset_shuffled['train'][0])  # type: dict"
   ]
  },
  {
   "cell_type": "code",
   "execution_count": 55,
   "metadata": {},
   "outputs": [
    {
     "data": {
      "text/plain": [
       "{'patient_id': 'S1130-05582011000200005-1',\n",
       " 'notes': 'Mujer de 57 años de edad, en cuya historia clínica destaca el antecedente de paraganglioma de cuerpo carotídeo en la hermana de la paciente, a la que se trató con resección quirúrgica de la lesión. Acude al servicio por presentar aumento de volumen cervical del lado izquierdo anterior al esternocleidomastoideo de 5 años de evolución, crecimiento lento, firme a la palpación, móvil en sentido anteroposterior, con reciente odinofagia y disfonía. La tomografía computarizada con medio de contraste muestra una imagen lobulada hiperdensa, bien delimitada de 29,7 × 33,3 mm, localizada en la bifurcación carótida, sin aparente afectación de la vía aérea. La angiografía muestra una imagen típica de \"lira\", en la que la lesión ovoide muestra una hipercaptación homogénea del contraste, así como una apertura de la bifurcación carotídea.\\n \\n De acuerdo a los hallazgos clínicos y de imagen, se realiza el diagnóstico de paraganglioma de cuerpo carotídeo. Debido al tamaño de la lesión, se realiza embolización selectiva con espuma de polidocanol y, 48 horas después, bajo anestesia general e intubación orotraqueal, se realiza resección quirúrgica de la lesión con abordaje laterocervical anterior al músculo esternocleidomastoideo, disección por planos hasta ubicar la lesión, la cual se reseca completamente con disección subadventicia ; se ligan ramos carotídeos colaterales con fines hemostáticos manteniendo la integridad de las arterias carótidas. El espécimen obtenido se envía para estudio histopatológico, en el cual se observa la presencia de acúmulos o nidos de células ovales con núcleos uniformes hipercromáticos rodeados por estroma vascular, que conforman el patrón de Zellballen, el patrón clásico del paraganglioma de cuerpo carotídeo.\\n \\n',\n",
       " 'labels': \"['Neoplasms of unspecified nature or uncertain behavior', 'Other general signs and symptoms']\",\n",
       " 'official_translation_x': 'A 57-year-old woman, whose clinical history highlights the antecedent of paralysis of the carotid body in her sister, who was treated with surgical resection of the lesion. He came to the service due to an increase of cervical volume on the left anterior side to the mental retardation of 5 years of evolution, slow growing, mobile in anteroposterior direction, with recent odynamism. Contrast-enhanced computed tomography showed a lobulated hyperdense, well-defined 29.7 × 33.3 mm image located in the carotid bifurcation, with no apparent airway involvement. Angiography shows a typical \"ira\" image, in which the ovoid lesion shows homogeneous contrast uptake, as well as an opening of the carotid bifurcation. 1. According to the clinical and imaging findings, the diagnosis of carotid body paralysis was made. Due to the size of the lesion, selective embolization was performed with polidocanol foam and 48 hours later, under general anesthesia and orotracheal intubation, surgical resection of the lesion was performed with a carotid dissection completely anterior branches to the muscle. The specimen obtained is sent for histopathological study, in which it is observed the presence of accumulations or nests of oval cells with uniform nuclei of classic hyperchroidal body surrounded by vascular stroma, conforming to the pattern',\n",
       " 'official_translation_y': 'A 57-year-old woman, whose clinical history highlights the antecedent of paralysis of the carotid body in her sister, who was treated with surgical resection of the lesion. He came to the service due to an increase of cervical volume on the left anterior side to the mental retardation of 5 years of evolution, slow growing, mobile in anteroposterior direction, with recent odynamism. Contrast-enhanced computed tomography showed a lobulated hyperdense, well-defined 29.7 × 33.3 mm image located in the carotid bifurcation, with no apparent airway involvement. Angiography shows a typical \"ira\" image, in which the ovoid lesion shows homogeneous contrast uptake, as well as an opening of the carotid bifurcation. 1. According to the clinical and imaging findings, the diagnosis of carotid body paralysis was made. Due to the size of the lesion, selective embolization was performed with polidocanol foam and 48 hours later, under general anesthesia and orotracheal intubation, surgical resection of the lesion was performed with a carotid dissection completely anterior branches to the muscle. The specimen obtained is sent for histopathological study, in which it is observed the presence of accumulations or nests of oval cells with uniform nuclei of classic hyperchroidal body surrounded by vascular stroma, conforming to the pattern'}"
      ]
     },
     "execution_count": 55,
     "metadata": {},
     "output_type": "execute_result"
    }
   ],
   "source": [
    "codiesp_splitted['train'][1]"
   ]
  },
  {
   "cell_type": "code",
   "execution_count": 57,
   "metadata": {},
   "outputs": [
    {
     "name": "stderr",
     "output_type": "stream",
     "text": [
      "Using custom data configuration default-2f1edee21a6e29de\n",
      "Found cached dataset csv (/Users/lsacy/.cache/huggingface/datasets/csv/default-2f1edee21a6e29de/0.0.0/6b34fb8fcf56f7c8ba51dc895bfa2bfbe43546f190a60fcf74bb5e8afdcc2317)\n",
      "100%|██████████| 1/1 [00:00<00:00, 455.51it/s]\n",
      "Loading cached split indices for dataset at /Users/lsacy/.cache/huggingface/datasets/csv/default-2f1edee21a6e29de/0.0.0/6b34fb8fcf56f7c8ba51dc895bfa2bfbe43546f190a60fcf74bb5e8afdcc2317/cache-712b410b19e4e3db.arrow and /Users/lsacy/.cache/huggingface/datasets/csv/default-2f1edee21a6e29de/0.0.0/6b34fb8fcf56f7c8ba51dc895bfa2bfbe43546f190a60fcf74bb5e8afdcc2317/cache-593b2bc2dfa52b80.arrow\n",
      "100%|██████████| 1/1 [00:00<00:00, 101.30ba/s]\n"
     ]
    }
   ],
   "source": [
    "# split,  select, shuffle, filter\n",
    "codiesp = load_dataset('csv', data_files={'/Users/lsacy/data/continualLearning/codiesp_CCS_fold_1_dev.csv'})\n",
    "codiesp_splitted = codiesp['train'].train_test_split(test_size=0.2, seed=1)\n",
    "codiesp_selected = codiesp_splitted['train'].select(range(10))\n",
    "codiesp_selected_shuffled = codiesp_selected.shuffle()\n",
    "codiesp_select_shuffled_chained = codiesp_splitted['train'].select(range(5)).shuffle()\n",
    "codiesp_filtered = codiesp_splitted['train'].filter(lambda x: x['patient_id'] == 'S1130-05582011000200005-1')"
   ]
  },
  {
   "cell_type": "code",
   "execution_count": 77,
   "metadata": {},
   "outputs": [
    {
     "ename": "AttributeError",
     "evalue": "'DatasetDict' object has no attribute 'features'",
     "output_type": "error",
     "traceback": [
      "\u001b[0;31m---------------------------------------------------------------------------\u001b[0m",
      "\u001b[0;31mAttributeError\u001b[0m                            Traceback (most recent call last)",
      "Cell \u001b[0;32mIn[77], line 1\u001b[0m\n\u001b[0;32m----> 1\u001b[0m codiesp_splitted\u001b[39m.\u001b[39;49mfeatures\n",
      "\u001b[0;31mAttributeError\u001b[0m: 'DatasetDict' object has no attribute 'features'"
     ]
    }
   ],
   "source": [
    "codiesp_splitted.features"
   ]
  },
  {
   "cell_type": "code",
   "execution_count": null,
   "metadata": {},
   "outputs": [],
   "source": [
    "#check"
   ]
  },
  {
   "cell_type": "code",
   "execution_count": 72,
   "metadata": {},
   "outputs": [
    {
     "name": "stderr",
     "output_type": "stream",
     "text": [
      "  0%|          | 0/145 [00:00<?, ?ex/s]\n"
     ]
    },
    {
     "ename": "TypeError",
     "evalue": "Provided `function` which is applied to all elements of table returns a variable of type <class 'str'>. Make sure provided `function` returns a variable of type `dict` (or a pyarrow table) to update the dataset or `None` if you are only interested in side effects.",
     "output_type": "error",
     "traceback": [
      "\u001b[0;31m---------------------------------------------------------------------------\u001b[0m",
      "\u001b[0;31mTypeError\u001b[0m                                 Traceback (most recent call last)",
      "Cell \u001b[0;32mIn[72], line 5\u001b[0m\n\u001b[1;32m      2\u001b[0m codiesp_renamed \u001b[39m=\u001b[39m codiesp_splitted[\u001b[39m'\u001b[39m\u001b[39mtrain\u001b[39m\u001b[39m'\u001b[39m]\u001b[39m.\u001b[39mrename_column(\u001b[39m'\u001b[39m\u001b[39mpatient_id\u001b[39m\u001b[39m'\u001b[39m, \u001b[39m'\u001b[39m\u001b[39mpatient_id_renamed\u001b[39m\u001b[39m'\u001b[39m)\n\u001b[1;32m      4\u001b[0m \u001b[39m# map\u001b[39;00m\n\u001b[0;32m----> 5\u001b[0m codiesp_mapped \u001b[39m=\u001b[39m codiesp_splitted[\u001b[39m'\u001b[39;49m\u001b[39mtrain\u001b[39;49m\u001b[39m'\u001b[39;49m]\u001b[39m.\u001b[39;49mmap(\u001b[39mlambda\u001b[39;49;00m x: x[\u001b[39m'\u001b[39;49m\u001b[39mnotes\u001b[39;49m\u001b[39m'\u001b[39;49m]\u001b[39m.\u001b[39;49mupper())\n",
      "File \u001b[0;32m~/opt/miniconda3/envs/clcnlu/lib/python3.8/site-packages/datasets/arrow_dataset.py:2815\u001b[0m, in \u001b[0;36mDataset.map\u001b[0;34m(self, function, with_indices, with_rank, input_columns, batched, batch_size, drop_last_batch, remove_columns, keep_in_memory, load_from_cache_file, cache_file_name, writer_batch_size, features, disable_nullable, fn_kwargs, num_proc, suffix_template, new_fingerprint, desc)\u001b[0m\n\u001b[1;32m   2812\u001b[0m disable_tqdm \u001b[39m=\u001b[39m \u001b[39mnot\u001b[39;00m logging\u001b[39m.\u001b[39mis_progress_bar_enabled()\n\u001b[1;32m   2814\u001b[0m \u001b[39mif\u001b[39;00m num_proc \u001b[39mis\u001b[39;00m \u001b[39mNone\u001b[39;00m \u001b[39mor\u001b[39;00m num_proc \u001b[39m==\u001b[39m \u001b[39m1\u001b[39m:\n\u001b[0;32m-> 2815\u001b[0m     \u001b[39mreturn\u001b[39;00m \u001b[39mself\u001b[39;49m\u001b[39m.\u001b[39;49m_map_single(\n\u001b[1;32m   2816\u001b[0m         function\u001b[39m=\u001b[39;49mfunction,\n\u001b[1;32m   2817\u001b[0m         with_indices\u001b[39m=\u001b[39;49mwith_indices,\n\u001b[1;32m   2818\u001b[0m         with_rank\u001b[39m=\u001b[39;49mwith_rank,\n\u001b[1;32m   2819\u001b[0m         input_columns\u001b[39m=\u001b[39;49minput_columns,\n\u001b[1;32m   2820\u001b[0m         batched\u001b[39m=\u001b[39;49mbatched,\n\u001b[1;32m   2821\u001b[0m         batch_size\u001b[39m=\u001b[39;49mbatch_size,\n\u001b[1;32m   2822\u001b[0m         drop_last_batch\u001b[39m=\u001b[39;49mdrop_last_batch,\n\u001b[1;32m   2823\u001b[0m         remove_columns\u001b[39m=\u001b[39;49mremove_columns,\n\u001b[1;32m   2824\u001b[0m         keep_in_memory\u001b[39m=\u001b[39;49mkeep_in_memory,\n\u001b[1;32m   2825\u001b[0m         load_from_cache_file\u001b[39m=\u001b[39;49mload_from_cache_file,\n\u001b[1;32m   2826\u001b[0m         cache_file_name\u001b[39m=\u001b[39;49mcache_file_name,\n\u001b[1;32m   2827\u001b[0m         writer_batch_size\u001b[39m=\u001b[39;49mwriter_batch_size,\n\u001b[1;32m   2828\u001b[0m         features\u001b[39m=\u001b[39;49mfeatures,\n\u001b[1;32m   2829\u001b[0m         disable_nullable\u001b[39m=\u001b[39;49mdisable_nullable,\n\u001b[1;32m   2830\u001b[0m         fn_kwargs\u001b[39m=\u001b[39;49mfn_kwargs,\n\u001b[1;32m   2831\u001b[0m         new_fingerprint\u001b[39m=\u001b[39;49mnew_fingerprint,\n\u001b[1;32m   2832\u001b[0m         disable_tqdm\u001b[39m=\u001b[39;49mdisable_tqdm,\n\u001b[1;32m   2833\u001b[0m         desc\u001b[39m=\u001b[39;49mdesc,\n\u001b[1;32m   2834\u001b[0m     )\n\u001b[1;32m   2835\u001b[0m \u001b[39melse\u001b[39;00m:\n\u001b[1;32m   2837\u001b[0m     \u001b[39mdef\u001b[39;00m \u001b[39mformat_cache_file_name\u001b[39m(cache_file_name, rank):\n",
      "File \u001b[0;32m~/opt/miniconda3/envs/clcnlu/lib/python3.8/site-packages/datasets/arrow_dataset.py:546\u001b[0m, in \u001b[0;36mtransmit_tasks.<locals>.wrapper\u001b[0;34m(*args, **kwargs)\u001b[0m\n\u001b[1;32m    544\u001b[0m     \u001b[39mself\u001b[39m: \u001b[39m\"\u001b[39m\u001b[39mDataset\u001b[39m\u001b[39m\"\u001b[39m \u001b[39m=\u001b[39m kwargs\u001b[39m.\u001b[39mpop(\u001b[39m\"\u001b[39m\u001b[39mself\u001b[39m\u001b[39m\"\u001b[39m)\n\u001b[1;32m    545\u001b[0m \u001b[39m# apply actual function\u001b[39;00m\n\u001b[0;32m--> 546\u001b[0m out: Union[\u001b[39m\"\u001b[39m\u001b[39mDataset\u001b[39m\u001b[39m\"\u001b[39m, \u001b[39m\"\u001b[39m\u001b[39mDatasetDict\u001b[39m\u001b[39m\"\u001b[39m] \u001b[39m=\u001b[39m func(\u001b[39mself\u001b[39;49m, \u001b[39m*\u001b[39;49margs, \u001b[39m*\u001b[39;49m\u001b[39m*\u001b[39;49mkwargs)\n\u001b[1;32m    547\u001b[0m datasets: List[\u001b[39m\"\u001b[39m\u001b[39mDataset\u001b[39m\u001b[39m\"\u001b[39m] \u001b[39m=\u001b[39m \u001b[39mlist\u001b[39m(out\u001b[39m.\u001b[39mvalues()) \u001b[39mif\u001b[39;00m \u001b[39misinstance\u001b[39m(out, \u001b[39mdict\u001b[39m) \u001b[39melse\u001b[39;00m [out]\n\u001b[1;32m    548\u001b[0m \u001b[39mfor\u001b[39;00m dataset \u001b[39min\u001b[39;00m datasets:\n\u001b[1;32m    549\u001b[0m     \u001b[39m# Remove task templates if a column mapping of the template is no longer valid\u001b[39;00m\n",
      "File \u001b[0;32m~/opt/miniconda3/envs/clcnlu/lib/python3.8/site-packages/datasets/arrow_dataset.py:513\u001b[0m, in \u001b[0;36mtransmit_format.<locals>.wrapper\u001b[0;34m(*args, **kwargs)\u001b[0m\n\u001b[1;32m    506\u001b[0m self_format \u001b[39m=\u001b[39m {\n\u001b[1;32m    507\u001b[0m     \u001b[39m\"\u001b[39m\u001b[39mtype\u001b[39m\u001b[39m\"\u001b[39m: \u001b[39mself\u001b[39m\u001b[39m.\u001b[39m_format_type,\n\u001b[1;32m    508\u001b[0m     \u001b[39m\"\u001b[39m\u001b[39mformat_kwargs\u001b[39m\u001b[39m\"\u001b[39m: \u001b[39mself\u001b[39m\u001b[39m.\u001b[39m_format_kwargs,\n\u001b[1;32m    509\u001b[0m     \u001b[39m\"\u001b[39m\u001b[39mcolumns\u001b[39m\u001b[39m\"\u001b[39m: \u001b[39mself\u001b[39m\u001b[39m.\u001b[39m_format_columns,\n\u001b[1;32m    510\u001b[0m     \u001b[39m\"\u001b[39m\u001b[39moutput_all_columns\u001b[39m\u001b[39m\"\u001b[39m: \u001b[39mself\u001b[39m\u001b[39m.\u001b[39m_output_all_columns,\n\u001b[1;32m    511\u001b[0m }\n\u001b[1;32m    512\u001b[0m \u001b[39m# apply actual function\u001b[39;00m\n\u001b[0;32m--> 513\u001b[0m out: Union[\u001b[39m\"\u001b[39m\u001b[39mDataset\u001b[39m\u001b[39m\"\u001b[39m, \u001b[39m\"\u001b[39m\u001b[39mDatasetDict\u001b[39m\u001b[39m\"\u001b[39m] \u001b[39m=\u001b[39m func(\u001b[39mself\u001b[39;49m, \u001b[39m*\u001b[39;49margs, \u001b[39m*\u001b[39;49m\u001b[39m*\u001b[39;49mkwargs)\n\u001b[1;32m    514\u001b[0m datasets: List[\u001b[39m\"\u001b[39m\u001b[39mDataset\u001b[39m\u001b[39m\"\u001b[39m] \u001b[39m=\u001b[39m \u001b[39mlist\u001b[39m(out\u001b[39m.\u001b[39mvalues()) \u001b[39mif\u001b[39;00m \u001b[39misinstance\u001b[39m(out, \u001b[39mdict\u001b[39m) \u001b[39melse\u001b[39;00m [out]\n\u001b[1;32m    515\u001b[0m \u001b[39m# re-apply format to the output\u001b[39;00m\n",
      "File \u001b[0;32m~/opt/miniconda3/envs/clcnlu/lib/python3.8/site-packages/datasets/fingerprint.py:480\u001b[0m, in \u001b[0;36mfingerprint_transform.<locals>._fingerprint.<locals>.wrapper\u001b[0;34m(*args, **kwargs)\u001b[0m\n\u001b[1;32m    476\u001b[0m             validate_fingerprint(kwargs[fingerprint_name])\n\u001b[1;32m    478\u001b[0m \u001b[39m# Call actual function\u001b[39;00m\n\u001b[0;32m--> 480\u001b[0m out \u001b[39m=\u001b[39m func(\u001b[39mself\u001b[39;49m, \u001b[39m*\u001b[39;49margs, \u001b[39m*\u001b[39;49m\u001b[39m*\u001b[39;49mkwargs)\n\u001b[1;32m    482\u001b[0m \u001b[39m# Update fingerprint of in-place transforms + update in-place history of transforms\u001b[39;00m\n\u001b[1;32m    484\u001b[0m \u001b[39mif\u001b[39;00m inplace:  \u001b[39m# update after calling func so that the fingerprint doesn't change if the function fails\u001b[39;00m\n",
      "File \u001b[0;32m~/opt/miniconda3/envs/clcnlu/lib/python3.8/site-packages/datasets/arrow_dataset.py:3221\u001b[0m, in \u001b[0;36mDataset._map_single\u001b[0;34m(self, function, with_indices, with_rank, input_columns, batched, batch_size, drop_last_batch, remove_columns, keep_in_memory, load_from_cache_file, cache_file_name, writer_batch_size, features, disable_nullable, fn_kwargs, new_fingerprint, rank, offset, disable_tqdm, desc, cache_only)\u001b[0m\n\u001b[1;32m   3219\u001b[0m \u001b[39mif\u001b[39;00m \u001b[39mnot\u001b[39;00m batched:\n\u001b[1;32m   3220\u001b[0m     \u001b[39mfor\u001b[39;00m i, example \u001b[39min\u001b[39;00m pbar:\n\u001b[0;32m-> 3221\u001b[0m         example \u001b[39m=\u001b[39m apply_function_on_filtered_inputs(example, i, offset\u001b[39m=\u001b[39;49moffset)\n\u001b[1;32m   3222\u001b[0m         \u001b[39mif\u001b[39;00m update_data:\n\u001b[1;32m   3223\u001b[0m             \u001b[39mif\u001b[39;00m i \u001b[39m==\u001b[39m \u001b[39m0\u001b[39m:\n",
      "File \u001b[0;32m~/opt/miniconda3/envs/clcnlu/lib/python3.8/site-packages/datasets/arrow_dataset.py:3123\u001b[0m, in \u001b[0;36mDataset._map_single.<locals>.apply_function_on_filtered_inputs\u001b[0;34m(pa_inputs, indices, check_same_num_examples, offset)\u001b[0m\n\u001b[1;32m   3120\u001b[0m \u001b[39mif\u001b[39;00m update_data \u001b[39mis\u001b[39;00m \u001b[39mNone\u001b[39;00m:\n\u001b[1;32m   3121\u001b[0m     \u001b[39m# Check if the function returns updated examples\u001b[39;00m\n\u001b[1;32m   3122\u001b[0m     update_data \u001b[39m=\u001b[39m \u001b[39misinstance\u001b[39m(processed_inputs, (Mapping, pa\u001b[39m.\u001b[39mTable))\n\u001b[0;32m-> 3123\u001b[0m     validate_function_output(processed_inputs, indices)\n\u001b[1;32m   3124\u001b[0m \u001b[39mif\u001b[39;00m \u001b[39mnot\u001b[39;00m update_data:\n\u001b[1;32m   3125\u001b[0m     \u001b[39mreturn\u001b[39;00m \u001b[39mNone\u001b[39;00m  \u001b[39m# Nothing to update, let's move on\u001b[39;00m\n",
      "File \u001b[0;32m~/opt/miniconda3/envs/clcnlu/lib/python3.8/site-packages/datasets/arrow_dataset.py:3068\u001b[0m, in \u001b[0;36mDataset._map_single.<locals>.validate_function_output\u001b[0;34m(processed_inputs, indices)\u001b[0m\n\u001b[1;32m   3066\u001b[0m \u001b[39m\u001b[39m\u001b[39m\"\"\"Validate output of the map function.\"\"\"\u001b[39;00m\n\u001b[1;32m   3067\u001b[0m \u001b[39mif\u001b[39;00m processed_inputs \u001b[39mis\u001b[39;00m \u001b[39mnot\u001b[39;00m \u001b[39mNone\u001b[39;00m \u001b[39mand\u001b[39;00m \u001b[39mnot\u001b[39;00m \u001b[39misinstance\u001b[39m(processed_inputs, (Mapping, pa\u001b[39m.\u001b[39mTable)):\n\u001b[0;32m-> 3068\u001b[0m     \u001b[39mraise\u001b[39;00m \u001b[39mTypeError\u001b[39;00m(\n\u001b[1;32m   3069\u001b[0m         \u001b[39mf\u001b[39m\u001b[39m\"\u001b[39m\u001b[39mProvided `function` which is applied to all elements of table returns a variable of type \u001b[39m\u001b[39m{\u001b[39;00m\u001b[39mtype\u001b[39m(processed_inputs)\u001b[39m}\u001b[39;00m\u001b[39m. Make sure provided `function` returns a variable of type `dict` (or a pyarrow table) to update the dataset or `None` if you are only interested in side effects.\u001b[39m\u001b[39m\"\u001b[39m\n\u001b[1;32m   3070\u001b[0m     )\n\u001b[1;32m   3071\u001b[0m \u001b[39melif\u001b[39;00m \u001b[39misinstance\u001b[39m(indices, \u001b[39mlist\u001b[39m) \u001b[39mand\u001b[39;00m \u001b[39misinstance\u001b[39m(processed_inputs, Mapping):\n\u001b[1;32m   3072\u001b[0m     allowed_batch_return_types \u001b[39m=\u001b[39m (\u001b[39mlist\u001b[39m, np\u001b[39m.\u001b[39mndarray, pd\u001b[39m.\u001b[39mSeries)\n",
      "\u001b[0;31mTypeError\u001b[0m: Provided `function` which is applied to all elements of table returns a variable of type <class 'str'>. Make sure provided `function` returns a variable of type `dict` (or a pyarrow table) to update the dataset or `None` if you are only interested in side effects."
     ]
    }
   ],
   "source": [
    "# rename column\n",
    "codiesp_renamed = codiesp_splitted['train'].rename_column('patient_id', 'patient_id_renamed')\n",
    "\n",
    "# map\n",
    "codiesp_mapped = codiesp_splitted['train'].map(lambda x: x['notes'].upper())"
   ]
  },
  {
   "cell_type": "code",
   "execution_count": 75,
   "metadata": {},
   "outputs": [
    {
     "name": "stderr",
     "output_type": "stream",
     "text": [
      "100%|██████████| 145/145 [00:00<00:00, 22913.65ex/s]\n"
     ]
    },
    {
     "data": {
      "text/plain": [
       "Dataset({\n",
       "    features: ['patient_id', 'notes', 'labels', 'official_translation_x', 'official_translation_y'],\n",
       "    num_rows: 145\n",
       "})"
      ]
     },
     "execution_count": 75,
     "metadata": {},
     "output_type": "execute_result"
    }
   ],
   "source": [
    "codiesp_splitted['train'].map(lambda x: None)\n"
   ]
  },
  {
   "cell_type": "code",
   "execution_count": null,
   "metadata": {},
   "outputs": [],
   "source": []
  },
  {
   "cell_type": "code",
   "execution_count": null,
   "metadata": {},
   "outputs": [],
   "source": [
    "c"
   ]
  },
  {
   "cell_type": "code",
   "execution_count": 51,
   "metadata": {},
   "outputs": [
    {
     "data": {
      "text/plain": [
       "Dataset({\n",
       "    features: ['patient_id', 'notes', 'labels', 'official_translation_x', 'official_translation_y'],\n",
       "    num_rows: 5\n",
       "})"
      ]
     },
     "execution_count": 51,
     "metadata": {},
     "output_type": "execute_result"
    }
   ],
   "source": [
    "codiesp_select_shuffled_chained"
   ]
  },
  {
   "cell_type": "code",
   "execution_count": 42,
   "metadata": {},
   "outputs": [
    {
     "data": {
      "text/html": [
       "<div>\n",
       "<style scoped>\n",
       "    .dataframe tbody tr th:only-of-type {\n",
       "        vertical-align: middle;\n",
       "    }\n",
       "\n",
       "    .dataframe tbody tr th {\n",
       "        vertical-align: top;\n",
       "    }\n",
       "\n",
       "    .dataframe thead th {\n",
       "        text-align: right;\n",
       "    }\n",
       "</style>\n",
       "<table border=\"1\" class=\"dataframe\">\n",
       "  <thead>\n",
       "    <tr style=\"text-align: right;\">\n",
       "      <th></th>\n",
       "      <th>TEXT</th>\n",
       "      <th>ROW_ID</th>\n",
       "      <th>SUBJECT_ID</th>\n",
       "      <th>labels</th>\n",
       "    </tr>\n",
       "    <tr>\n",
       "      <th>HADM_ID</th>\n",
       "      <th></th>\n",
       "      <th></th>\n",
       "      <th></th>\n",
       "      <th></th>\n",
       "    </tr>\n",
       "  </thead>\n",
       "  <tbody>\n",
       "    <tr>\n",
       "      <th>167071</th>\n",
       "      <td>CHIEF COMPLAINT: Shortness of breath in the pa...</td>\n",
       "      <td>41794</td>\n",
       "      <td>90406</td>\n",
       "      <td>['Aortic; peripheral; and visceral artery aneu...</td>\n",
       "    </tr>\n",
       "  </tbody>\n",
       "</table>\n",
       "</div>"
      ],
      "text/plain": [
       "                                                      TEXT ROW_ID SUBJECT_ID  \\\n",
       "HADM_ID                                                                        \n",
       "167071   CHIEF COMPLAINT: Shortness of breath in the pa...  41794      90406   \n",
       "\n",
       "                                                    labels  \n",
       "HADM_ID                                                     \n",
       "167071   ['Aortic; peripheral; and visceral artery aneu...  "
      ]
     },
     "execution_count": 42,
     "metadata": {},
     "output_type": "execute_result"
    }
   ],
   "source": [
    "df_codiesp.iloc[0]\n",
    "#convert to a dataframe with one row, with HADM_ID as index\n",
    "df_codiesp.iloc[0].to_frame().T.set_index('HADM_ID')"
   ]
  },
  {
   "cell_type": "code",
   "execution_count": null,
   "metadata": {},
   "outputs": [],
   "source": []
  }
 ],
 "metadata": {
  "kernelspec": {
   "display_name": "clcnlu",
   "language": "python",
   "name": "python3"
  },
  "language_info": {
   "codemirror_mode": {
    "name": "ipython",
    "version": 3
   },
   "file_extension": ".py",
   "mimetype": "text/x-python",
   "name": "python",
   "nbconvert_exporter": "python",
   "pygments_lexer": "ipython3",
   "version": "3.8.16"
  },
  "orig_nbformat": 4,
  "vscode": {
   "interpreter": {
    "hash": "66b115f1110a69b6eaea00558fab78e993fc04e6100a90d74ba6cc0d37911dfa"
   }
  }
 },
 "nbformat": 4,
 "nbformat_minor": 2
}
